{
 "cells": [
  {
   "cell_type": "markdown",
   "metadata": {
    "slideshow": {
     "slide_type": "slide"
    }
   },
   "source": [
    "# Module 02 - Python Basics"
   ]
  },
  {
   "cell_type": "code",
   "execution_count": null,
   "metadata": {},
   "outputs": [],
   "source": []
  },
  {
   "cell_type": "markdown",
   "metadata": {
    "slideshow": {
     "slide_type": "slide"
    }
   },
   "source": [
    "## A simple example. \n",
    "The solutions of the second degree equation\n",
    "$$a x^2+b x+c=0$$\n",
    "are\n",
    "$$\n",
    "x_{1,2} = \\frac{-b \\pm \\sqrt{(b^2-4ac)}}{2a}\n",
    "$$\n",
    "How to translate it in Python?"
   ]
  },
  {
   "cell_type": "code",
   "execution_count": null,
   "metadata": {
    "slideshow": {
     "slide_type": "slide"
    }
   },
   "outputs": [],
   "source": [
    "# Defining the equation parameters\n",
    "a = 1.0  # define 2nd degree coefficient\n",
    "b = 4.0  # define 1st degree coefficient\n",
    "c = 3.0  # define 0th degree coefficient\n",
    "# Printing the initial message\n",
    "print(\"Solving the equation: \",a,\"x^2 +\",b,\"x +\",c)\n",
    "# Computing the solutions using the second degree equation formula\n",
    "x1 = (-b-(b**2-4*a*c)**0.5)/(2*a)\n",
    "x2 = (-b+(b**2-4*a*c)**0.5)/(2*a)\n",
    "# Print the resulting solutions\n",
    "print(\"The solutions are: \",x1,\" and \",x2)"
   ]
  },
  {
   "cell_type": "markdown",
   "metadata": {
    "slideshow": {
     "slide_type": "fragment"
    }
   },
   "source": [
    "* Lines starting with `#` are Python comments\n",
    "   * ignored by the interpreter\n",
    "* Characters after `#` are comments as well\n",
    "   * unless are part of a string (see more later)\n",
    "* Best practise:\n",
    "   * comment your code\n",
    "   * do not overcomment your code!"
   ]
  },
  {
   "cell_type": "markdown",
   "metadata": {
    "slideshow": {
     "slide_type": "slide"
    }
   },
   "source": [
    "# Variables and types\n",
    "\n",
    "* No need to explicitly declare the types of variables nor to declare them otherwise\n",
    "    * Just assign and use them\n",
    "* But there are types\n",
    "* Basic numeric types\n",
    "   * `int` for integers\n",
    "   * `float` for floats\n",
    "* If needed (e.g., for didactic purposes) you can check the type using `type` function"
   ]
  },
  {
   "cell_type": "code",
   "execution_count": null,
   "metadata": {
    "slideshow": {
     "slide_type": "fragment"
    }
   },
   "outputs": [],
   "source": [
    "a = 3\n",
    "print(type(a))\n",
    "b = 4.5\n",
    "print(type(b))"
   ]
  },
  {
   "cell_type": "markdown",
   "metadata": {
    "slideshow": {
     "slide_type": "slide"
    }
   },
   "source": [
    "## `print()` function\n",
    "\n",
    "* To print to standard output you may use the print() function.\n",
    "\n",
    "* It can take any number of arguments also with different types:\n"
   ]
  },
  {
   "cell_type": "code",
   "execution_count": null,
   "metadata": {
    "slideshow": {
     "slide_type": "fragment"
    }
   },
   "outputs": [],
   "source": [
    "print(0, 2, 4)\n",
    "print(0, 2, 4, end='')\n",
    "print(\"Solving the equation: \",a,\"x^2 +\",b,\"x +\",c)"
   ]
  },
  {
   "cell_type": "markdown",
   "metadata": {
    "slideshow": {
     "slide_type": "fragment"
    }
   },
   "source": [
    "* Please note that in Python 2 `print` is an operator:\n",
    "   * Python 3 is not backward compatible with that respect\n",
    "`\n",
    "print 1, 2, 3\n",
    "`"
   ]
  },
  {
   "cell_type": "markdown",
   "metadata": {
    "slideshow": {
     "slide_type": "fragment"
    }
   },
   "source": [
    "* Enough for now, we'll see more later"
   ]
  },
  {
   "cell_type": "markdown",
   "metadata": {
    "slideshow": {
     "slide_type": "slide"
    }
   },
   "source": [
    "# Variable initialization\n",
    "* What happens trying to use uninitialized variable?\n",
    "   * subtle bugs may arise in some languages"
   ]
  },
  {
   "cell_type": "code",
   "execution_count": null,
   "metadata": {
    "slideshow": {
     "slide_type": "fragment"
    },
    "tags": [
     "raises-exception"
    ]
   },
   "outputs": [],
   "source": [
    "# Defining the equation parameters\n",
    "a = 1.0 ; b = 4.0 ; c = 0.0  # define equation coefficients\n",
    "# Printing the initial message\n",
    "print(\"Solving the equation: \",a,\"x^2 +\",b,\"x +\",c)\n",
    "# Computing the solutions using the second degree equation formula\n",
    "x1 = (-b-(b**2-4*a*c)**0.5)/(2*az) # <--- az variable not declared!!!\n",
    "x2 = (-b+(b**2-4*a*c)**0.5)/(2*a)\n",
    "# Print the resulting solutions\n",
    "print(\"The solutions are: \",x1,\" and \",x2)"
   ]
  },
  {
   "cell_type": "markdown",
   "metadata": {
    "slideshow": {
     "slide_type": "slide"
    }
   },
   "source": [
    "* Very easy in Python to catch the error\n",
    "   * `name 'az' is not defined`\n",
    "   * the interpreter returns the error line number and visualizes the line for easy code fixing\n",
    "* By the way: you can use `;` as a separator between statements\n",
    "   * in general avoid it! Not pythonic, just for special purposes (fitting anything in the slide)"
   ]
  },
  {
   "cell_type": "markdown",
   "metadata": {
    "slideshow": {
     "slide_type": "slide"
    }
   },
   "source": [
    "# Python typing - dynamical\n",
    "\n",
    "* Python is *dynamically typed*\n",
    "   * Python variables are names bound to objects\n",
    "   * it is possible to bind a name to objects of different types during the execution of the program"
   ]
  },
  {
   "cell_type": "code",
   "execution_count": null,
   "metadata": {
    "slideshow": {
     "slide_type": "fragment"
    }
   },
   "outputs": [],
   "source": [
    "a = 2.4\n",
    "print(\"value =\",a,\" - type =\", type(a))\n",
    "a = 15\n",
    "print(\"value =\",a,\" - type =\", type(a))"
   ]
  },
  {
   "cell_type": "markdown",
   "metadata": {
    "slideshow": {
     "slide_type": "slide"
    }
   },
   "source": [
    "* Beware:\n",
    "   * The first and second `a` are linked to different objects with two different types\n",
    "   * scalar intrinsic types and strings in Python are **immutable**, it is not possible to modify them\n",
    "   * For now it is irrelevant, but it is important to understand for more complex types\n",
    "* For demonstrating purpose, you can directly print the identifier of the object linked to a variable using the function `id`\n",
    "   * id() return an integer (or long integer) which is *guaranteed to be unique and constant for this object during its lifetime*"
   ]
  },
  {
   "cell_type": "code",
   "execution_count": null,
   "metadata": {
    "slideshow": {
     "slide_type": "fragment"
    }
   },
   "outputs": [],
   "source": [
    "a = 2.4\n",
    "print(id(a))\n",
    "\n",
    "a = 15\n",
    "print(id(a))"
   ]
  },
  {
   "cell_type": "markdown",
   "metadata": {
    "slideshow": {
     "slide_type": "slide"
    }
   },
   "source": [
    "## Understanding Python variables\n",
    "\n",
    "* Again, in Python variables are labels bound to objects\n",
    "   * you can have multiple names point to the same object. \n",
    "   * `is` tells you if two names point to one and the same object \n",
    "   * `==` tells you if two names refer to objects that have the same value.\n",
    "   * for scalar numbers the difference is rarely important, see more later"
   ]
  },
  {
   "cell_type": "code",
   "execution_count": null,
   "metadata": {
    "slideshow": {
     "slide_type": "fragment"
    }
   },
   "outputs": [],
   "source": [
    "a = 3\n",
    "b = 3\n",
    "print(a is b)  # labels of the same object 3\n",
    "a = 3.0\n",
    "b = 3\n",
    "print(a == b)  # same value\n",
    "print(a is b)  # different object\n",
    "a = b          \n",
    "print(a is b)  # labels of the same object\n",
    "b = 4          # b is now label of a different object\n",
    "print(a)"
   ]
  },
  {
   "cell_type": "markdown",
   "metadata": {
    "slideshow": {
     "slide_type": "slide"
    }
   },
   "source": [
    "# Hitting limits\n",
    "* In many languages there are different integers and floats working in different ranges: \n",
    "   * e.g. `int`, `long int`, in C, or `real(kind(1.0))` and `real(kind(1.d0))` in Fortran\n",
    "   * often `single precision` and `double precision` (or 32bit/64bit) categories are enough\n",
    "* What about Python?\n",
    "   * `int` has unlimited range\n",
    "   "
   ]
  },
  {
   "cell_type": "code",
   "execution_count": null,
   "metadata": {
    "slideshow": {
     "slide_type": "fragment"
    }
   },
   "outputs": [],
   "source": [
    "print(2**1024)"
   ]
  },
  {
   "cell_type": "markdown",
   "metadata": {
    "slideshow": {
     "slide_type": "slide"
    }
   },
   "source": [
    "# Hitting limits\n",
    "* In many languages there are different integers and floats working (and/or working well) in different ranges, e.g. `int`, `long int`, in C, or `real(kind(1.0))` and `real(kind(1.d0))` in Fortran\n",
    "   * often `single precision` and `double precision` (or 32bit/64bit) categories are enough\n",
    "* What about Python?\n",
    "   * `int` has unlimited range\n",
    "   * `float` are actually double precision real numbers and, as such, can overflow"
   ]
  },
  {
   "cell_type": "code",
   "execution_count": null,
   "metadata": {
    "slideshow": {
     "slide_type": "fragment"
    },
    "tags": [
     "raises-exception"
    ]
   },
   "outputs": [],
   "source": [
    "print(2.0**1023)\n",
    "print(2.0**1024)"
   ]
  },
  {
   "cell_type": "markdown",
   "metadata": {
    "slideshow": {
     "slide_type": "slide"
    }
   },
   "source": [
    "# Hitting limits\n",
    "* In many languages there are different integers and floats working (and/or working well) in different ranges\n",
    "   * e.g. `int`, `long int`, in C, or `real(kind(1.0))` and `real(kind(1.d0))` in Fortran\n",
    "   * often `single precision` and `double precision` (or 32bit/64bit) categories are enough\n",
    "* What about Python?\n",
    "   * `int` are unlimited\n",
    "   * `float` are actually double precision real numbers and, as such, can overflow\n",
    "   * need more? check Python mathematical libraries"
   ]
  },
  {
   "cell_type": "markdown",
   "metadata": {
    "slideshow": {
     "slide_type": "slide"
    }
   },
   "source": [
    "## Python typing - strong\n",
    "\n",
    "* Python is *strongly typed*\n",
    "   * every change of type requires an explicit conversion\n",
    "   * e.g., `3` cannot be used as `\"3\"`\n",
    "* Very common programming error\n",
    "   * subtle bugs can appear when the operation is possibile but does not correspond to what was intended   "
   ]
  },
  {
   "cell_type": "code",
   "execution_count": null,
   "metadata": {
    "slideshow": {
     "slide_type": "fragment"
    }
   },
   "outputs": [],
   "source": [
    "a = 3\n",
    "b = 2*a\n",
    "c = 2+a\n",
    "print('b=2*a result is ' ,b)\n",
    "print('b=2+a result is ' ,c)"
   ]
  },
  {
   "cell_type": "markdown",
   "metadata": {
    "slideshow": {
     "slide_type": "slide"
    }
   },
   "source": [
    "* Very common programming error\n",
    "   * subtle bugs can appear when the operation is possibile but does not correspond to what was intended\n",
    "   * in other cases, easy to debug thanks to Python messages: `unsupported operand types...` means cannot add integers with strings"
   ]
  },
  {
   "cell_type": "code",
   "execution_count": null,
   "metadata": {
    "slideshow": {
     "slide_type": "fragment"
    }
   },
   "outputs": [],
   "source": [
    "a = \"3\"\n",
    "b = \"2\"+a\n",
    "print('b=\"2\"+\"3\" result = ',b)\n",
    "c = 2*a\n",
    "print('c=2*\"3\" result = ',c)\n",
    "d = 2+a\n",
    "print('d=2+\"3\" result = ',d)"
   ]
  },
  {
   "cell_type": "markdown",
   "metadata": {
    "slideshow": {
     "slide_type": "subslide"
    }
   },
   "source": [
    "## Arithmetic\n",
    "\n",
    "* Python supports common arithmetic operations to build intuitive expressions"
   ]
  },
  {
   "cell_type": "markdown",
   "metadata": {
    "slideshow": {
     "slide_type": "fragment"
    }
   },
   "source": [
    "`x1 = (-b-(b**2-4*a*c)**0.5)/(2*a)`"
   ]
  },
  {
   "cell_type": "markdown",
   "metadata": {
    "slideshow": {
     "slide_type": "fragment"
    }
   },
   "source": [
    "* `+`, `-`, `*`, `/`\n",
    "* `**` stands for exponentiation\n",
    "* `%` modulus, remainder of the division of left operand by the right\n"
   ]
  },
  {
   "cell_type": "markdown",
   "metadata": {
    "slideshow": {
     "slide_type": "slide"
    }
   },
   "source": [
    "* Compact assignment operators available `+=`, `-=`, `*=`, `/=`, `**=`,..."
   ]
  },
  {
   "cell_type": "code",
   "execution_count": null,
   "metadata": {
    "slideshow": {
     "slide_type": "fragment"
    }
   },
   "outputs": [],
   "source": [
    "a = 1 ; b = 2 ; c = 1\n",
    "x1 = (-b-(b**2-4*a*c)**0.5)\n",
    "x1 /= 2*a\n",
    "print(x1)"
   ]
  },
  {
   "cell_type": "markdown",
   "metadata": {
    "slideshow": {
     "slide_type": "fragment"
    }
   },
   "source": [
    "* Multiple assignments are also possible"
   ]
  },
  {
   "cell_type": "code",
   "execution_count": null,
   "metadata": {
    "slideshow": {
     "slide_type": "fragment"
    }
   },
   "outputs": [],
   "source": [
    "x,y = 2,3\n",
    "print(\"x=\",x,\" - y=\",y)"
   ]
  },
  {
   "cell_type": "markdown",
   "metadata": {
    "slideshow": {
     "slide_type": "fragment"
    }
   },
   "source": [
    "* Beware: \n",
    "   * in Python 3 `/` always returns float (e.g., `7/2=3.5`)\n",
    "   * in Python 3 the operator `//` allows to perform integer division (e.g., `7//2=3`)\n",
    "   * using Python 2, the result of `/` is the integer truncation if the inputs are both integers (e.g., `7/2=3`)\n"
   ]
  },
  {
   "cell_type": "code",
   "execution_count": null,
   "metadata": {
    "slideshow": {
     "slide_type": "fragment"
    }
   },
   "outputs": [],
   "source": [
    "print(7%2, 7//2, 3/2+4, 3.0/2.0+4)"
   ]
  },
  {
   "cell_type": "markdown",
   "metadata": {
    "slideshow": {
     "slide_type": "slide"
    }
   },
   "source": [
    "## Mixing int and floats\n",
    "\n",
    "* Mixing floats and ints leads to promotion of integers to floats\n",
    "   * beware: int range is unlimited while floats can overflow"
   ]
  },
  {
   "cell_type": "code",
   "execution_count": null,
   "metadata": {
    "slideshow": {
     "slide_type": "fragment"
    }
   },
   "outputs": [],
   "source": [
    "print(1  + 2**1024)\n",
    "print(1. + 2**1024)"
   ]
  },
  {
   "cell_type": "markdown",
   "metadata": {},
   "source": [
    "* `int()` truncates floats to int\n",
    "* `round()` returns the nearest int"
   ]
  },
  {
   "cell_type": "code",
   "execution_count": null,
   "metadata": {},
   "outputs": [],
   "source": [
    "print(int(3.2), int(3.5), int(3.8))\n",
    "print(round(3.2), round(3.5), round(3.8))\n",
    "print(1+2.**1023-2**1023)"
   ]
  },
  {
   "cell_type": "markdown",
   "metadata": {
    "slideshow": {
     "slide_type": "subslide"
    }
   },
   "source": [
    "## Strings\n",
    "* String literals in python are surrounded by either single quotation marks, or double quotation marks"
   ]
  },
  {
   "cell_type": "code",
   "execution_count": null,
   "metadata": {},
   "outputs": [],
   "source": [
    "a = 3. ; b = 5.; c = 2.\n",
    "s1 = \"Solving the equation\"\n",
    "print(type(s1))\n",
    "s2 = 'x^2 +'\n",
    "s3 = 'x +'\n",
    "print(s1,a,s2,b,s3,c)"
   ]
  },
  {
   "cell_type": "markdown",
   "metadata": {
    "slideshow": {
     "slide_type": "fragment"
    }
   },
   "source": [
    "* Strings can be concatenated using the `+` operator"
   ]
  },
  {
   "cell_type": "code",
   "execution_count": null,
   "metadata": {
    "slideshow": {
     "slide_type": "fragment"
    }
   },
   "outputs": [],
   "source": [
    "p1 = \"Equation has\"\n",
    "p2 = \"been correctly solved\"\n",
    "p3 = \"failed\"\n",
    "ptot = p1+\" \"+p2\n",
    "print(\"ptot: \",ptot)\n",
    "ptot = p1+\" \"+p3\n",
    "print(\"ptot: \",ptot)"
   ]
  },
  {
   "cell_type": "markdown",
   "metadata": {
    "slideshow": {
     "slide_type": "fragment"
    }
   },
   "source": [
    "* Enough for now, more later"
   ]
  },
  {
   "cell_type": "markdown",
   "metadata": {
    "slideshow": {
     "slide_type": "slide"
    }
   },
   "source": [
    "## Making it complex\n",
    "* Does the second degree equation code always work?\n",
    "   * what happens setting a=..., b=... and c=...?"
   ]
  },
  {
   "cell_type": "code",
   "execution_count": null,
   "metadata": {
    "slideshow": {
     "slide_type": "fragment"
    }
   },
   "outputs": [],
   "source": [
    "# Defining the equation parameters\n",
    "a = 1.0 ; b = 2.0 ; c = 3.0  # define coefficients\n",
    "# Printing the initial message\n",
    "print(\"Solving the equation: \",a,\"x^2 +\",b,\"x +\",c)\n",
    "# Computing the solutions using the second degree equation formula\n",
    "x1 = (-b-(b**2-4*a*c)**0.5)/(2*a)\n",
    "x2 = (-b+(b**2-4*a*c)**0.5)/(2*a)\n",
    "# Print the resulting solutions\n",
    "print(\"The solutions are: \",x1,\" and \",x2)"
   ]
  },
  {
   "cell_type": "markdown",
   "metadata": {
    "slideshow": {
     "slide_type": "fragment"
    }
   },
   "source": [
    "* What happened? Python automatically introduced complex numbers to represent the results"
   ]
  },
  {
   "cell_type": "markdown",
   "metadata": {
    "slideshow": {
     "slide_type": "slide"
    }
   },
   "source": [
    "## Complex\n",
    "* Assigning complex numbers"
   ]
  },
  {
   "cell_type": "code",
   "execution_count": null,
   "metadata": {
    "slideshow": {
     "slide_type": "fragment"
    }
   },
   "outputs": [],
   "source": [
    "a = complex(2.,3.)\n",
    "print(a)\n",
    "print(\"Real part: \",a.real, \" - Imaginary part: \",a.imag)"
   ]
  },
  {
   "cell_type": "code",
   "execution_count": null,
   "metadata": {
    "slideshow": {
     "slide_type": "fragment"
    }
   },
   "outputs": [],
   "source": [
    "b = complex(\"3+4j\")\n",
    "print(b, type(b))"
   ]
  },
  {
   "cell_type": "code",
   "execution_count": null,
   "metadata": {
    "slideshow": {
     "slide_type": "fragment"
    }
   },
   "outputs": [],
   "source": [
    "print(type(x1))"
   ]
  },
  {
   "cell_type": "markdown",
   "metadata": {
    "slideshow": {
     "slide_type": "slide"
    }
   },
   "source": [
    "# Training to robustness\n",
    "\n",
    "* Again, does the second degree equation code always work?\n",
    "   * what happens setting a=..., b=... and c=...?"
   ]
  },
  {
   "cell_type": "code",
   "execution_count": null,
   "metadata": {
    "slideshow": {
     "slide_type": "fragment"
    }
   },
   "outputs": [],
   "source": [
    "# Defining the equation parameters\n",
    "a = 0.0 ; b = 2. ; c = 3.0  # define coefficients\n",
    "# Printing the initial message\n",
    "print(\"Solving the equation: \",a,\"x^2 +\",b,\"x +\",c)\n",
    "# Computing the solutions using the second degree equation formula\n",
    "x1 = (-b-(b**2-4*a*c)**0.5)/(2*a)\n",
    "x2 = (-b+(b**2-4*a*c)**0.5)/(2*a)\n",
    "# Print the resulting solutions\n",
    "print(\"The solutions are: \",x1,\" and \",x2)"
   ]
  },
  {
   "cell_type": "markdown",
   "metadata": {
    "slideshow": {
     "slide_type": "fragment"
    }
   },
   "source": [
    "* Setting `a=0.` is incompatible with the used formula. How to handle this?"
   ]
  },
  {
   "cell_type": "markdown",
   "metadata": {
    "slideshow": {
     "slide_type": "slide"
    }
   },
   "source": [
    "## Python conditionals\n",
    "```python\n",
    "if <condition>:\n",
    "    x1 = ....\n",
    "else:\n",
    "    x1 = ....\n",
    "```"
   ]
  },
  {
   "cell_type": "code",
   "execution_count": null,
   "metadata": {
    "slideshow": {
     "slide_type": "fragment"
    }
   },
   "outputs": [],
   "source": [
    "# Defining the equation parameters\n",
    "a = 0.0 ; b = 2. ; c = 3.0  # define coefficients\n",
    "# Printing the initial message\n",
    "print(\"Solving the equation: \",a,\"x^2 +\",b,\"x +\",c)\n",
    "if a != 0.0:\n",
    "    # Computing the solutions using the second degree equation formula\n",
    "    x1 = (-b-(b**2-4*a*c)**0.5)/(2*a)\n",
    "    x2 = (-b+(b**2-4*a*c)**0.5)/(2*a)\n",
    "    print(\"The solutions are: \",x1,\" and \",x2)\n",
    "else:\n",
    "    x1 = -c/b\n",
    "    print(\"The solution is: \",x1)"
   ]
  },
  {
   "cell_type": "markdown",
   "metadata": {
    "slideshow": {
     "slide_type": "slide"
    }
   },
   "source": [
    "## Python conditionals\n",
    "```python\n",
    "if <condition>:\n",
    "    x1 = ....\n",
    "else:\n",
    "    x1 = ....\n",
    "```"
   ]
  },
  {
   "cell_type": "markdown",
   "metadata": {
    "slideshow": {
     "slide_type": "fragment"
    }
   },
   "source": [
    "* Beware: <span style=\"font-weight: bold; color: red;\">in Python indentation matters</span>\n",
    "   * code readability first!\n",
    "   * you can use `tab` delimiter\n",
    "   * or a fixed number of `spaces` (4 or 8 usually)\n",
    "   * but you may encounter consistency problems if varying  the indentation field across your source"
   ]
  },
  {
   "cell_type": "code",
   "execution_count": null,
   "metadata": {},
   "outputs": [],
   "source": [
    "a = 5\n",
    "if a > 0: \n",
    "    print(\"a is greater than zero\") # indentation error"
   ]
  },
  {
   "cell_type": "markdown",
   "metadata": {
    "slideshow": {
     "slide_type": "slide"
    }
   },
   "source": [
    "* One-line conditional are allowed\n",
    "   * two forms available: which is more readable?"
   ]
  },
  {
   "cell_type": "code",
   "execution_count": null,
   "metadata": {
    "slideshow": {
     "slide_type": "fragment"
    }
   },
   "outputs": [],
   "source": [
    "# Defining the equation parameters\n",
    "a = 1.0 ; b = 2. ; c = 3.0  # define coefficients\n",
    "delta = b**2-4*a*c\n",
    "# Printing the initial message\n",
    "print(\"Solving the equation: \",a,\"x^2 +\",b,\"x +\",c)\n",
    "if (a == 0.0):\n",
    "    if (b == 0.0):\n",
    "        if (c == 0.0):\n",
    "            print('A trivial identity!')\n",
    "        else:\n",
    "            print('Plainly absurd!')\n",
    "    else:\n",
    "        print('One degree problem!')\n",
    "        x1 = -c/b\n",
    "        print(\"The solution is: \",x1)\n",
    "else:\n",
    "    if delta < 0.0: print(\"Complex roots\")\n",
    "    print(\"Complex roots\") if delta < 0.0 else print(\"Real roots\")        \n",
    "    x1 = (-b-delta**0.5)/(2*a)\n",
    "    x2 = (-b+delta**0.5)/(2*a)\n",
    "    print(\"The solutions are: \",x1,\" and \",x2)   "
   ]
  },
  {
   "cell_type": "markdown",
   "metadata": {
    "slideshow": {
     "slide_type": "slide"
    }
   },
   "source": [
    "# More conditionals\n",
    "* Python conditional supports many branches using `elif` keyword\n",
    "* Conditions are usually built using comparison operators"
   ]
  },
  {
   "cell_type": "code",
   "execution_count": null,
   "metadata": {
    "slideshow": {
     "slide_type": "fragment"
    }
   },
   "outputs": [],
   "source": [
    "x1 = 3. ; x2 = -5.\n",
    "if x1 >= 0 and x2 >= 0:\n",
    "    print(\"Two positive or zero solutions\")\n",
    "elif x1 < 0 and x2 < 0:\n",
    "    print(\"One positive and one negative solutions\")   \n",
    "else:\n",
    "    print(\"Two negative solutions\")   "
   ]
  },
  {
   "cell_type": "markdown",
   "metadata": {
    "slideshow": {
     "slide_type": "fragment"
    }
   },
   "source": [
    "* Intuitive meaning: `<, >, <=, >=, !=, ==` for less than, greater than, less or equal, greater or equal, not equal, equal\n",
    "   * be careful: `=` is for assignments, `==` is for equality check"
   ]
  },
  {
   "cell_type": "markdown",
   "metadata": {
    "slideshow": {
     "slide_type": "slide"
    }
   },
   "source": [
    "## Logical operators\n",
    "* Conditions can be combined using logical operators\n",
    "   * binary operators: `and`, `or` are true if both or at least one of the conditions are true, respectively\n",
    "   * unary operator: `not` is true if the condition is not true\n"
   ]
  },
  {
   "cell_type": "code",
   "execution_count": null,
   "metadata": {
    "slideshow": {
     "slide_type": "fragment"
    }
   },
   "outputs": [],
   "source": [
    "x1 = 3. ; x2 = -5.\n",
    "if x1 >= 0 and x2 >= 0:\n",
    "    print(\"Two positive or zero solutions\")\n",
    "elif x1 < 0 and x2 < 0:\n",
    "    print(\"One positive and one negative solutions\")   \n",
    "else:\n",
    "    print(\"Two negative solutions\")   "
   ]
  },
  {
   "cell_type": "markdown",
   "metadata": {
    "slideshow": {
     "slide_type": "slide"
    }
   },
   "source": [
    "## Boolean\n",
    "* Variables having boolean intrinsic type can be associated to `True` or `False` objects\n"
   ]
  },
  {
   "cell_type": "code",
   "execution_count": null,
   "metadata": {
    "slideshow": {
     "slide_type": "fragment"
    }
   },
   "outputs": [],
   "source": [
    "x1 = 3. ; x2 = -5.\n",
    "\n",
    "verbose = True\n",
    "\n",
    "if verbose:\n",
    "    x1pos = (x1 >= 0)\n",
    "    x2pos = (x2 >= 0)\n",
    "\n",
    "    if x1pos and x2pos:\n",
    "        print(\"Two positive or zero solutions\")\n",
    "    elif not x1pos or not x2pos:\n",
    "        print(\"One positive and one negative solutions\")   \n",
    "    else:\n",
    "        print(\"Two negative solutions\") "
   ]
  },
  {
   "cell_type": "markdown",
   "metadata": {
    "slideshow": {
     "slide_type": "slide"
    }
   },
   "source": [
    "## Understanding booleans\n",
    "* In Python 3.x True and False are keywords and will always be equal to 1 and 0\n",
    "* A non boolean variable can be truthy or non truthy\n",
    "   * non-zero number is truthy (e.g. 3)\n",
    "   * zero number is non-truthy (e.g. 0, 0.0)\n",
    "   * non zero-length string is truthy (e.g. \"hello\")\n",
    "   * zero-length string is non-truthy (e.g. \"\")"
   ]
  },
  {
   "cell_type": "code",
   "execution_count": null,
   "metadata": {
    "slideshow": {
     "slide_type": "fragment"
    }
   },
   "outputs": [],
   "source": [
    "a = True # check also \"hello\", \"\", 3, 1, 0\n",
    "if a is True:  # is means it is the same object, useful in specific cases\n",
    "   print(\"a is pythonically True\")\n",
    "if a == True:  # not recommended, you are checking the variable are 1 or 0\n",
    "   print(\"a == True\")\n",
    "if a:          # truthy or not truthy, pythonic\n",
    "   print(\"a is true\")"
   ]
  },
  {
   "cell_type": "markdown",
   "metadata": {
    "slideshow": {
     "slide_type": "slide"
    }
   },
   "source": [
    "# One, *None* and One Hundred Thousand\n",
    "\n",
    "* We know that trying to use a uninitialized variable results into an error\n",
    "* We could check if the variable has been initialized before using it but this is a *bad habit*\n",
    "* Instead, when needed, we can initialize variables using `None` object\n",
    "   * then we can check if the variable is `None` by doing <br/>\n",
    "   `if variable is None:` / `if variable is not None:`\n",
    "   * `None` has its own type"
   ]
  },
  {
   "cell_type": "code",
   "execution_count": null,
   "metadata": {
    "slideshow": {
     "slide_type": "fragment"
    }
   },
   "outputs": [],
   "source": [
    "a = None # try also False\n",
    "if a is not None:\n",
    "    print(\"is not None, but \", a)\n",
    "\n",
    "print(type(a))\n",
    "if a is None:  # is means it is the same object, useful in specific cases\n",
    "   print(\"a is a label of None\")\n",
    "if a == None:\n",
    "   print(\"a evalutes as None\")\n",
    "if not a:          # truthy or not truthy, pythonic\n",
    "   print(\"a is not truthy\")"
   ]
  },
  {
   "cell_type": "markdown",
   "metadata": {
    "slideshow": {
     "slide_type": "slide"
    }
   },
   "source": [
    "* Initializing to `None` gives the possibility to modify or not modify the variable and check its value at the end\n",
    "* The check must be `is None` or `is not None`: why?"
   ]
  },
  {
   "cell_type": "code",
   "execution_count": null,
   "metadata": {
    "slideshow": {
     "slide_type": "fragment"
    }
   },
   "outputs": [],
   "source": [
    "y1 = None\n",
    "y2 = None\n",
    "# Defining the equation parameters\n",
    "a = 5. ; b = 1. ; c = 0.  # define coefficients\n",
    "# Printing the initial message\n",
    "print(\"Solving the equation: \",a,\"y^2 +\",b,\"y +\",c)\n",
    "if a != 0.0:\n",
    "    # Computing the solutions using the second degree equation formula\n",
    "    y1 = (-b-(b**2-4*a*c)**0.5)/(2*a)\n",
    "    y2 = (-b+(b**2-4*a*c)**0.5)/(2*a)\n",
    "    print(\"The solutions are: \",y1,\" and \",y2)\n",
    "else:\n",
    "    y1 = -c/b\n",
    "    print(\"The solution is: \",y1)\n",
    "\n",
    "#if y2: # does it work??\n",
    "if y2 is not None:\n",
    "    ysum = y1 + y2  \n",
    "    print(\"The sum of solutions is: \",ysum)"
   ]
  },
  {
   "cell_type": "markdown",
   "metadata": {
    "slideshow": {
     "slide_type": "slide"
    }
   },
   "source": [
    "## Hands-on 2.1\n",
    "Find area and perimeter of a triangle given the lengths of its edges $l_1$, $l_2$, $l_3$. To find area use the Erone formula\n",
    "$$area = \\sqrt{p(p-l_1)(p-l_2)(p-l_3)}$$\n",
    "where $p$ is the semi-perimeter.\n",
    "Make it robust as much as possible!"
   ]
  },
  {
   "cell_type": "markdown",
   "metadata": {
    "slideshow": {
     "slide_type": "slide"
    }
   },
   "source": [
    "# Rights & Credits\n",
    "\n",
    "These slides are CINECA 2018 and are released under the Attribution-NonCommercial-NoDerivs (CC BY-NC-ND) Creative Commons license, version 3.0. \n",
    "\n",
    "Uses not allowed by the above license need explicit, written permission from the copyright owner.\n",
    "\n",
    "For more information see:\n",
    "http://creativecommons.org/licenses/by-nc-nd/3.0/\n",
    "\n",
    "Slides and examples were authored by:\n",
    "**Sergio Orlandini**, **Francesco Salvadore**"
   ]
  }
 ],
 "metadata": {
  "celltoolbar": "Slideshow",
  "kernelspec": {
   "display_name": "Python 3",
   "language": "python",
   "name": "python3"
  },
  "language_info": {
   "codemirror_mode": {
    "name": "ipython",
    "version": 3
   },
   "file_extension": ".py",
   "mimetype": "text/x-python",
   "name": "python",
   "nbconvert_exporter": "python",
   "pygments_lexer": "ipython3",
   "version": "3.9.7"
  }
 },
 "nbformat": 4,
 "nbformat_minor": 2
}
