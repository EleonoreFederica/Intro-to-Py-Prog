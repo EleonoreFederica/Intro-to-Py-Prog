{
 "cells": [
  {
   "cell_type": "markdown",
   "metadata": {
    "slideshow": {
     "slide_type": "slide"
    }
   },
   "source": [
    "# Introduction to Python Programming\n",
    "\n",
    "## Sergio Orlandini  -  Luca Ferraro\n",
    "   s.orlandini@cineca.it - l.ferraro@cineca.it\n",
    "\n",
    "## CINECA - Rome\n",
    "\n",
    "<img src=\"Images/python.jpg\" width=\"800\"/>"
   ]
  },
  {
   "cell_type": "markdown",
   "metadata": {
    "slideshow": {
     "slide_type": "slide"
    }
   },
   "source": [
    "### Material available on the site:\n",
    "\n",
    "https://gitlab.hpc.cineca.it/scai-training-rome/python-intro-2021\n",
    "\n",
    "\n",
    "In order to download material, open a terminal and run the following command:\n",
    "\n",
    "```bash\n",
    "git clone https://gitlab.hpc.cineca.it/scai-training-rome/python-intro-2021.git\n",
    "```\n"
   ]
  },
  {
   "cell_type": "markdown",
   "metadata": {
    "slideshow": {
     "slide_type": "slide"
    }
   },
   "source": [
    "## Python language\n",
    "\n",
    "* Python is an interpreted high-level programming language for general-purpose programming. \n",
    "* Conceived in the late 1980s by Guido van Rossum in the Netherlands \n",
    "* First release in 1991\n",
    "* Python 2.0 released in 2000\n",
    "* Python 3.0 released in 2008\n",
    "   * **Not completely backward-compatible**\n",
    "   * Python 2.7 end-of-life postponed from 2015 to 2020 due to forward-porting difficulties of many portions of \n",
    "   code\n",
    "   * **We will mainly focus on Python 3.x during this course** \n",
    "   * In 2018 usage statistics finally report 25%/75% for Python2/3 respectively\n",
    "   * There is the utility 2to3 to convert code from the old to the new python (not completely effective)\n",
    "* Python evolves through so called PEPs (Python Enhancement Proposal)"
   ]
  },
  {
   "cell_type": "markdown",
   "metadata": {
    "slideshow": {
     "slide_type": "slide"
    }
   },
   "source": [
    "From \n",
    "https://stackoverflow.blog/2017/09/06/incredible-growth-python/\n",
    "\n",
    "![title](Images/python_usage.png)\n"
   ]
  },
  {
   "cell_type": "markdown",
   "metadata": {
    "slideshow": {
     "slide_type": "slide"
    }
   },
   "source": [
    "# TIOBE Index\n",
    "\n",
    "From https://www.tiobe.com/tiobe-index\n",
    "\n",
    "The TIOBE programming community index is a measure of popularity of programming languages. \\\n",
    "The index is calculated from the number of search engine results for queries containing the name of the language. \\\n",
    "https://www.tiobe.com/tiobe-index/programming-languages-definition/\n",
    "\n",
    "<img src=\"Images/tiobe.png\" width=\"1200\"/>\n"
   ]
  },
  {
   "cell_type": "markdown",
   "metadata": {
    "slideshow": {
     "slide_type": "slide"
    }
   },
   "source": [
    "## Philosophy\n",
    "\n",
    "* The Zen of Python (PEP 20) summarizes Python philosophy through aphorisms such as:\n",
    "   * A common neologism in code is **pythonic**, i.e. a code which uses Python idioms following the recommendations of the Python community\n",
    "<pre style=\"font-size: 28px;\">\n",
    "Beautiful is better than ugly.\n",
    "Explicit is better than implicit.\n",
    "Simple is better than complex.\n",
    "Complex is better than complicated.\n",
    "Flat is better than nested.\n",
    "Sparse is better than dense.\n",
    "Readability counts.\n",
    "Special cases aren't special enough to break the rules.\n",
    "Although practicality beats purity.\n",
    "Errors should never pass silently.\n",
    "Unless explicitly silenced.\n",
    "In the face of ambiguity, refuse the temptation to guess.\n",
    "There should be one-- and preferably only one --obvious way to do it.\n",
    "Although that way may not be obvious at first unless you're Dutch.\n",
    "Now is better than never.\n",
    "Although never is often better than *right* now.\n",
    "If the implementation is hard to explain, it's a bad idea.\n",
    "If the implementation is easy to explain, it may be a good idea.\n",
    "Namespaces are one honking great idea -- let's do more of those!\n",
    "</pre>"
   ]
  },
  {
   "cell_type": "markdown",
   "metadata": {
    "slideshow": {
     "slide_type": "slide"
    }
   },
   "source": [
    "## Advantages\n",
    "\n",
    "Python is a programming language with many good features:\n",
    "\n",
    "* **Excellent readability** (there is only one way -- or at least a *pythonic* way -- to do anything)\n",
    "* Very easy to use\n",
    "* Easy to learn (looks like pseudo-coding)\n",
    "* Excellent portability (Linux, Windows, iOS,...)\n",
    "   * the course will focus the Linux platform, but moving to other OS is usually not too difficult in Python\n",
    "   * using Windows, you may use WinPython or better Anaconda https://www.anaconda.com/download/#windows\n"
   ]
  },
  {
   "cell_type": "markdown",
   "metadata": {
    "slideshow": {
     "slide_type": "slide"
    }
   },
   "source": [
    "## Applications\n",
    "\n",
    "* Do not call it a “scripting language”! Although it can be used as such, it is much more\n",
    "    * web-servers\n",
    "    * scientific computing\n",
    "    * machine learning\n",
    "    * databases management\n",
    "    * Graphical User Interfaces\n",
    "    * scripting\n",
    "* It is an high level language, modern, complete, with which it is possible to realize highly complex software.\n",
    "\n",
    "* It is an interpreted language, but it would be more appropriate to call it \"dynamic language\".\n",
    "\n",
    "* A dynamic language is a high­level language in which many of the controls are executed run-time, while in other languages they are done at compile time."
   ]
  },
  {
   "cell_type": "markdown",
   "metadata": {
    "slideshow": {
     "slide_type": "slide"
    }
   },
   "source": [
    "## Paradigms\n",
    "\n",
    "Python is a multiparadigm language:\n",
    "* Imperative\n",
    "* Object-oriented\n",
    "* Functional\n",
    "* Structural (modular)\n",
    "* Aspect-oriented\n",
    "* Design by contract (with an extension)\n",
    "* ...\n"
   ]
  },
  {
   "cell_type": "markdown",
   "metadata": {
    "slideshow": {
     "slide_type": "slide"
    }
   },
   "source": [
    "# Python resources\n",
    "\n",
    "* Start with the official Python page...\n",
    "https://www.python.org/\n",
    "* ...which comes with a detailed documentation...\n",
    "https://docs.python.org/3/index.html\n",
    "* ...and a extensive tutorial\n",
    "https://docs.python.org/3/tutorial/index.html\n",
    "* But there are plenty of resources across the web, books,...\n",
    "* And of course StackOverflow\n",
    "https://stackoverflow.com/questions/tagged/python\n",
    "* Be careful: study to be *pythonic*, not only to have a code working, it is the right choice"
   ]
  },
  {
   "cell_type": "markdown",
   "metadata": {
    "slideshow": {
     "slide_type": "slide"
    }
   },
   "source": [
    "## Python implementation\n",
    "\n",
    "* CPython is the original Python implementation\n",
    "   * CPython is also the first to implement new features: Python-the-language development uses CPython as the base\n",
    "   * other implementations may lack some language features or compatibility \n",
    "   * implemented in C (just an implementation detail)\n",
    "   * it compiles your Python code into bytecode (transparently) and interprets that bytecode in a evaluation loop\n",
    "   * bytecode is saved in subfolders of your code named `__pycache__` (most probably you will never need to access that code)\n",
    "   \n",
    "* Alternatives are Jython, PyPy, IronPython\n",
    "      \n",
    "* During the first learning steps, you can easily disregard all implementation stuff\n",
    "   * possibly later as well..."
   ]
  },
  {
   "cell_type": "markdown",
   "metadata": {
    "collapsed": true,
    "slideshow": {
     "slide_type": "slide"
    }
   },
   "source": [
    "## Performances\n",
    "\n",
    "* Python is often considered a slow language. To a large extent this is true: it is slower than Java, for example, and can be much much slower than C or Fortran.\n",
    "   * This clearly depends on the specific task to execute\n",
    "   * And on the particular usage of Python: however, the Python philosophy rejects exuberant syntax in favor of simpler readable grammar\n",
    "\n",
    "* But the speed is not always the bottleneck. \n",
    "   * The management of the complexity can be more important than speed.\n",
    "   * The best performance improvement is the transition from the nonworking to the working state.\" --John Ousterhout\n",
    "   * \"Premature optimization is the root of all evil.\" -- Donald Knuth\n",
    "   * \"You can always optimize it later.\" -- Unknown"
   ]
  },
  {
   "cell_type": "markdown",
   "metadata": {
    "slideshow": {
     "slide_type": "slide"
    }
   },
   "source": [
    "## Improving performances\n",
    "\n",
    "However, there are several ways to make faster the \"critical\" parts of a python program.\n",
    "\n",
    "When speed is important, a Python programmer can:\n",
    "* use another Python interpreter instead of CPython, such as PyPy or numba, just-in-time compilers\n",
    "* move time-critical functions to extension modules written in languages such as C or Fortran\n",
    "* use the state-of-the-art Python packages which are implemented using low-level languages (*numpy*, *scipy*): keep your code pythonic but fast\n",
    "* use Cython package which translates a Python script into C and makes direct C-level API calls into the Python interpreter\n"
   ]
  },
  {
   "cell_type": "markdown",
   "metadata": {
    "slideshow": {
     "slide_type": "slide"
    }
   },
   "source": [
    "## LU decomposition performance comparison\n",
    "\n",
    "Elaborated from https://www.ibm.com/developerworks/community/blogs/jfp/entry/A_Comparison_Of_C_Julia_Python_Numba_Cython_Scipy_and_BLAS_on_LU_Factorization?lang=en\n",
    "\n",
    "<pre style=\"font-size: 24px;\">\n",
    "| N\t| pure python |  numba     |   numpy   |   cython  |   scipy  | fortran    |\n",
    "|------| ------------|------------|-----------|-----------|----------|------------|\n",
    "|5     | 0.000032    | 0.000002   | 0.000057  | 0.000002  | 0.000026 | 0.0000001  |\n",
    "|10    | 0.000185    | 0.000001   | 0.000192  | 0.000003  | 0.000036 | 0.0000003  |\n",
    "|30    | 0.004759    | 0.000018   | 0.001646  | 0.000016  | 0.000063 | 0.0000090  |\n",
    "|100   | 0.178138    | 0.000809   | 0.023402  | 0.000700  | 0.000533 | 0.0002899  |\n",
    "|200   | 1.437647    | 0.005188   | 0.091983  | 0.004781  | 0.001282 | 0.0026900  |\n",
    "|300   | 4.724848    | 0.015308   | 0.209932  | 0.013939  | 0.003942 | 0.0141052  |\n",
    "</pre>"
   ]
  },
  {
   "cell_type": "markdown",
   "metadata": {
    "slideshow": {
     "slide_type": "slide"
    }
   },
   "source": [
    "## Python 2 or Python 3?\n",
    "\n",
    "* Nowadays, no more doubt: choose Python 3\n",
    "   * this course will mainly focus on Python 3\n",
    "   * but we will discuss significant changes from Python 2\n",
    "   * of course there are (small) changes across Python 3.x releases\n",
    "* You find both of them in a common installation\n",
    "   * Sometimes the command python means Python 2 while `python3` command is needed for Python 3 and this is going to change in the future\n",
    "   * In doubt, execute `python -V`\n",
    "   * From a Python script, you can do (you will understand later)"
   ]
  },
  {
   "cell_type": "code",
   "execution_count": 1,
   "metadata": {
    "slideshow": {
     "slide_type": "fragment"
    }
   },
   "outputs": [
    {
     "name": "stdout",
     "output_type": "stream",
     "text": [
      "3.6.9 (default, Jan 26 2021, 15:33:00) \n",
      "[GCC 8.4.0]\n"
     ]
    }
   ],
   "source": [
    "import sys; print(sys.version)"
   ]
  },
  {
   "cell_type": "markdown",
   "metadata": {
    "slideshow": {
     "slide_type": "slide"
    }
   },
   "source": [
    "## Running Python scripts via command line (Linux)\n",
    "To run a Python script just write your code giving (usually) `.py` extension and then run\n",
    "\n",
    "```shell\n",
    "python3 script_file_name.py\n",
    "```\n",
    "\n",
    "If you want to avoid the name of the interpreter you have to specify the *shebang* line at the beginning of the file\n",
    "\n",
    "```python\n",
    "#!/usr/bin/env python3\n",
    "```\n",
    "\n",
    "replacing `python3` with `python2` (if you really need Python 2)\n",
    "\n",
    "If you have a code which is compatible with both Python 2 and Python 3 (on realistic codes you have to work to achieve this) you can use the generic shebang\n",
    "\n",
    "```python\n",
    "#!/usr/bin/env python\n",
    "```\n",
    "\n",
    "Of course you also have to make the script executable if you want to call as `./script_file_name.py`\n",
    "\n",
    "```shell\n",
    "chmod +x script_file_name.py\n",
    "```"
   ]
  },
  {
   "cell_type": "markdown",
   "metadata": {
    "slideshow": {
     "slide_type": "slide"
    }
   },
   "source": [
    "## Running Python interactively and GUIs\n",
    "\n",
    "* Just run `python3` and then execute commands which will be executed at each command completion\n",
    "   * This is the prompt: `>>>`\n",
    "   * Let us start with the very intuitive Python `print` function\n",
    "\n",
    "```python\n",
    ">>> print(\"Hello world\")\n",
    "```\n",
    "\n",
    "* There is a more powerful Python shell called IPython\n",
    "   * Its power is well shown using so called notebooks (where are you reading this from)\n",
    "   \n",
    "* Of course, you can also use traditional GUIs\n",
    "   * the basic Python GUI is `idle`\n",
    "   * but there are plenty of them \n",
    "   * personal choice: use Visual Studio Code, excellent tool with debugging and intellisense capabilities"
   ]
  },
  {
   "cell_type": "markdown",
   "metadata": {
    "slideshow": {
     "slide_type": "slide"
    }
   },
   "source": [
    "## Python as calculator\n",
    "\n",
    "* Python is also an excellent \"calculator\", to be used in interactive!"
   ]
  },
  {
   "cell_type": "code",
   "execution_count": 2,
   "metadata": {
    "slideshow": {
     "slide_type": "fragment"
    }
   },
   "outputs": [
    {
     "data": {
      "text/plain": [
       "179769313486231590772930519078902473361797697894230657273430081157732675805500963132708477322407536021120113879871393357658789768814416622492847430639474124377767893424865485276302219601246094119453082952085005768838150682342462881473913110540827237163350510684586298239947245938479716304835356329624224137216"
      ]
     },
     "execution_count": 2,
     "metadata": {},
     "output_type": "execute_result"
    }
   ],
   "source": [
    "2**1024"
   ]
  },
  {
   "cell_type": "markdown",
   "metadata": {
    "slideshow": {
     "slide_type": "fragment"
    }
   },
   "source": [
    "* When used in interactive mode, the interpreter acts a little differently.\n",
    "* If an expression has a value, it is printed automatically:\n",
    "\n",
    "```python\n",
    ">>> 34 + 55 - 2\n",
    "87\n",
    "```\n",
    "* To print intermediate results you can use `print` function"
   ]
  },
  {
   "cell_type": "markdown",
   "metadata": {
    "slideshow": {
     "slide_type": "slide"
    }
   },
   "source": [
    "## A taste of errors\n",
    "* Any error can occur during the execution of the interpreter in interactive mode, the interpreter survives, even in case of SyntaxError:"
   ]
  },
  {
   "cell_type": "code",
   "execution_count": 3,
   "metadata": {
    "tags": [
     "raises-exception"
    ]
   },
   "outputs": [
    {
     "ename": "ZeroDivisionError",
     "evalue": "division by zero",
     "output_type": "error",
     "traceback": [
      "\u001b[0;31m---------------------------------------------------------------------------\u001b[0m",
      "\u001b[0;31mZeroDivisionError\u001b[0m                         Traceback (most recent call last)",
      "\u001b[0;32m<ipython-input-3-3745832b4461>\u001b[0m in \u001b[0;36m<module>\u001b[0;34m\u001b[0m\n\u001b[0;32m----> 1\u001b[0;31m \u001b[0;36m5\u001b[0m\u001b[0;34m/\u001b[0m\u001b[0;36m0\u001b[0m \u001b[0;34m+\u001b[0m \u001b[0;36m3\u001b[0m\u001b[0;34m*\u001b[0m\u001b[0;34m(\u001b[0m\u001b[0;36m1\u001b[0m\u001b[0;34m-\u001b[0m\u001b[0;36m1\u001b[0m\u001b[0;34m/\u001b[0m\u001b[0;36m6\u001b[0m\u001b[0;34m)\u001b[0m\u001b[0;34m\u001b[0m\u001b[0;34m\u001b[0m\u001b[0m\n\u001b[0m",
      "\u001b[0;31mZeroDivisionError\u001b[0m: division by zero"
     ]
    }
   ],
   "source": [
    "5/0 + 3*(1-1/6)"
   ]
  },
  {
   "cell_type": "code",
   "execution_count": 4,
   "metadata": {
    "slideshow": {
     "slide_type": "fragment"
    },
    "tags": [
     "raises-exception"
    ]
   },
   "outputs": [
    {
     "ename": "NameError",
     "evalue": "name 'y' is not defined",
     "output_type": "error",
     "traceback": [
      "\u001b[0;31m---------------------------------------------------------------------------\u001b[0m",
      "\u001b[0;31mNameError\u001b[0m                                 Traceback (most recent call last)",
      "\u001b[0;32m<ipython-input-4-4d9374283e1e>\u001b[0m in \u001b[0;36m<module>\u001b[0;34m\u001b[0m\n\u001b[1;32m      1\u001b[0m \u001b[0mx\u001b[0m \u001b[0;34m=\u001b[0m \u001b[0;36m3\u001b[0m\u001b[0;34m\u001b[0m\u001b[0;34m\u001b[0m\u001b[0m\n\u001b[0;32m----> 2\u001b[0;31m \u001b[0;36m2\u001b[0m\u001b[0;34m*\u001b[0m\u001b[0mx\u001b[0m \u001b[0;34m+\u001b[0m \u001b[0my\u001b[0m\u001b[0;34m\u001b[0m\u001b[0;34m\u001b[0m\u001b[0m\n\u001b[0m",
      "\u001b[0;31mNameError\u001b[0m: name 'y' is not defined"
     ]
    }
   ],
   "source": [
    "x = 3\n",
    "2*x + y"
   ]
  },
  {
   "cell_type": "code",
   "execution_count": 5,
   "metadata": {
    "slideshow": {
     "slide_type": "fragment"
    },
    "tags": [
     "raises-exception"
    ]
   },
   "outputs": [
    {
     "ename": "SyntaxError",
     "evalue": "invalid syntax (<ipython-input-5-b628d4c614a9>, line 1)",
     "output_type": "error",
     "traceback": [
      "\u001b[0;36m  File \u001b[0;32m\"<ipython-input-5-b628d4c614a9>\"\u001b[0;36m, line \u001b[0;32m1\u001b[0m\n\u001b[0;31m    @@@ausfd?=\u001b[0m\n\u001b[0m     ^\u001b[0m\n\u001b[0;31mSyntaxError\u001b[0m\u001b[0;31m:\u001b[0m invalid syntax\n"
     ]
    }
   ],
   "source": [
    "@@@ausfd?="
   ]
  },
  {
   "cell_type": "markdown",
   "metadata": {
    "slideshow": {
     "slide_type": "slide"
    }
   },
   "source": [
    "## IPython interpreter\n",
    "\n",
    "Born in 2001 as a work of a student (Fernando Perez).\n",
    "\n",
    "Based on features he liked in Mathematica and trying to create a system for everyday scientific computing.\n",
    "\n",
    "* Command history, which can be browsed with the up and down arrows on the keyboard.\n",
    "* Tab auto-completion.\n",
    "* In-line editing of code.\n",
    "* Object introspection, and automatic extract of documentation strings from python objects like classes and functions.\n",
    "* Good interaction with operating system shell.\n",
    "* Support for multiple parallel back-end processes, that can run on computing clusters or cloud services like Amazon EE2."
   ]
  },
  {
   "cell_type": "markdown",
   "metadata": {
    "slideshow": {
     "slide_type": "slide"
    }
   },
   "source": [
    "## IPython notebook\n",
    "\n",
    "[IPython notebook](http://ipython.org/notebook.html) is an HTML-based notebook environment for Python\n",
    "\n",
    "* Based on the IPython shell\n",
    "* Provides a web cell-based interactive environment powered with Javascript\n",
    "* System profiles to access unix-terminal-like capability\n",
    "* Comments and notes with HTML and markdown formats\n",
    "* Integrates embedded plots"
   ]
  },
  {
   "cell_type": "markdown",
   "metadata": {
    "slideshow": {
     "slide_type": "slide"
    }
   },
   "source": [
    "## Jupyter project\n",
    "\n",
    "* In 2014, Fernado Perez announced a spin-off project from IPython called Project Jupyter (**JU**lia **PYT**hon and **R**). \n",
    "\n",
    "* IPython continues to exist as a Python shell and a **kernel** for Jupyter, while **the notebook** and *other language-agnostic parts of IPython* have been moved under the Jupyter name.\n",
    "\n",
    "* Jupyter added support for Julia, R, Haskell and Ruby."
   ]
  },
  {
   "cell_type": "markdown",
   "metadata": {
    "slideshow": {
     "slide_type": "slide"
    }
   },
   "source": [
    "## Jupyter notebooks\n",
    "\n",
    "Jupyter notebooks are based on **jupyter kernels**.\n",
    "\n",
    "- A ‘kernel’ is a program that runs and introspects the user’s code. \n",
    "- Currently many kernels are avialable also executing compiled languages (C++, Fortran, ...)\n",
    "https://github.com/jupyter/jupyter/wiki/Jupyter-kernels\n",
    "\n",
    "Notebooks are cool:\n",
    "- markdown and notes (consider to [learn markdown language](http://markdowntutorial.com/))\n",
    "- can be downloaded as .ipynb but also as python or html file\n",
    "- install a library and use\n",
    "- support for slideshow, enhanced through the RISE package https://github.com/damianavila/RISE"
   ]
  },
  {
   "cell_type": "markdown",
   "metadata": {
    "slideshow": {
     "slide_type": "slide"
    }
   },
   "source": [
    "## Jupyter notebook\n",
    "\n",
    "* You can start it from a terminal by running \n",
    "\n",
    "```shell\n",
    "jupyter notebook\n",
    "```\n",
    "\n",
    "* A browser is automatically opened with the a browsable view on your home \n",
    "* You can either\n",
    "   * open an existing notebook clicking to the notebook filename (.ipynb extension)\n",
    "   * start a new notebook (New button in top-right) selecting the kernel from the list of the installed ones\n",
    "   * open a terminal (New button)"
   ]
  },
  {
   "cell_type": "markdown",
   "metadata": {
    "slideshow": {
     "slide_type": "slide"
    }
   },
   "source": [
    "## Using notebooks\n",
    "* A notebook is composed by cells:\n",
    "   * **code**: cells containing Python code which can be executed \n",
    "   * **markdown**: cells containing text which can be formatted using easy Markdown language (a superset of HTML)\n",
    "    https://guides.github.com/features/mastering-markdown/\n",
    "   * **raw**: cells with unformatted text (rarely used)\n",
    "* The cool feature on *code* is executing it inside the cell itself\n",
    "   * using mouse press the Run buttons\n",
    "   * with keyboard use Ctrl+Enter, Shift+Enter or Alt+Enter\n",
    "   * There are several shortcuts to become quick using notebooks\n",
    "      * check the Keboard Shortcuts under the Help menu\n",
    "    "
   ]
  },
  {
   "cell_type": "code",
   "execution_count": 6,
   "metadata": {
    "slideshow": {
     "slide_type": "fragment"
    }
   },
   "outputs": [
    {
     "name": "stdout",
     "output_type": "stream",
     "text": [
      "Hi! This is a Python code cell. Press the ▶ button above to run it\n"
     ]
    }
   ],
   "source": [
    "print(\"Hi! This is a Python code cell. Press the ▶ button above to run it\")"
   ]
  },
  {
   "cell_type": "markdown",
   "metadata": {
    "slideshow": {
     "slide_type": "slide"
    }
   },
   "source": [
    "## Notebook cells\n",
    "* In the `code` cells, in addition to Python code you can execute\n",
    "   * shell commands (e.g. ls), prefixed by `!`\n",
    "   * so called Jupyter *magic* commands, prefixed by `%` (line maginc) or `%%` (cell magic)\n",
    "   * plots using inline Matplotlib library\n"
   ]
  },
  {
   "cell_type": "code",
   "execution_count": 7,
   "metadata": {
    "slideshow": {
     "slide_type": "fragment"
    }
   },
   "outputs": [
    {
     "name": "stdout",
     "output_type": "stream",
     "text": [
      "00_build_environment.sh\t\t\t 12_decorators.ipynb\r\n",
      "01_introduction.ipynb\t\t\t 13_python_environments.ipynb\r\n",
      "02_Basics.ipynb\t\t\t\t file_to_read\r\n",
      "03_ControlFlow.ipynb\t\t\t Hands-on\r\n",
      "04_Functions.ipynb\t\t\t Images\r\n",
      "05_container-act-1.ipynb\t\t letters_freq.dat\r\n",
      "06_string-io-intermezzo.ipynb\t\t MODULES\r\n",
      "07_container-act-2.ipynb\t\t mydata.dat\r\n",
      "08_exceptions.ipynb\t\t\t my_first_Python.py\r\n",
      "09_introspection_library.ipynb\t\t mymodule.py\r\n",
      "100m.dat\t\t\t\t README.md\r\n",
      "10_Iterables_iterators_generators.ipynb  requirements.txt\r\n",
      "11_classes.ipynb\t\t\t Solutions\r\n"
     ]
    }
   ],
   "source": [
    "!ls"
   ]
  },
  {
   "cell_type": "markdown",
   "metadata": {
    "slideshow": {
     "slide_type": "slide"
    }
   },
   "source": [
    "## Notebook cells\n",
    "* In the `code` cells, in addition to Python code you can execute\n",
    "   * shell commands (e.g. ls), prefixed by `!`\n",
    "   * so called Jupyter *magic* commands, prefixed by `%` (line maginc) or `%%` (cell magic)\n",
    "   * plots using inlint Matplot library (very useful but we will no deal with it in this basic course)"
   ]
  },
  {
   "cell_type": "code",
   "execution_count": 8,
   "metadata": {
    "slideshow": {
     "slide_type": "fragment"
    }
   },
   "outputs": [],
   "source": [
    "%quickref  # getting the list of magic functions"
   ]
  },
  {
   "cell_type": "code",
   "execution_count": 9,
   "metadata": {
    "slideshow": {
     "slide_type": "fragment"
    }
   },
   "outputs": [
    {
     "name": "stdout",
     "output_type": "stream",
     "text": [
      "useless timing of a print...\n",
      "useless timing of a print...\n",
      "useless timing of a print...\n",
      "useless timing of a print...\n",
      "useless timing of a print...\n",
      "useless timing of a print...\n",
      "useless timing of a print...\n",
      "The slowest run took 11.94 times longer than the fastest. This could mean that an intermediate result is being cached.\n",
      "79.1 µs ± 70.4 µs per loop (mean ± std. dev. of 7 runs, 1 loop each)\n"
     ]
    }
   ],
   "source": [
    "%timeit -n 1 print(\"useless timing of a print...\")"
   ]
  },
  {
   "cell_type": "code",
   "execution_count": 10,
   "metadata": {
    "slideshow": {
     "slide_type": "slide"
    }
   },
   "outputs": [
    {
     "name": "stdout",
     "output_type": "stream",
     "text": [
      "#!/usr/bin/env python3\r\n",
      "print(\"hello world from my first Python program\")\r\n"
     ]
    }
   ],
   "source": [
    "!cat my_first_Python.py"
   ]
  },
  {
   "cell_type": "code",
   "execution_count": 11,
   "metadata": {
    "slideshow": {
     "slide_type": "fragment"
    }
   },
   "outputs": [
    {
     "name": "stdout",
     "output_type": "stream",
     "text": [
      "hello world from my first Python program\n"
     ]
    }
   ],
   "source": [
    "%run my_first_Python.py"
   ]
  },
  {
   "cell_type": "code",
   "execution_count": 12,
   "metadata": {
    "slideshow": {
     "slide_type": "fragment"
    }
   },
   "outputs": [
    {
     "data": {
      "application/javascript": [
       "console.log(\"this is a javascript cell! This message is printed where it has to do\")\n"
      ],
      "text/plain": [
       "<IPython.core.display.Javascript object>"
      ]
     },
     "metadata": {},
     "output_type": "display_data"
    }
   ],
   "source": [
    "%%js \n",
    "console.log(\"this is a javascript cell! This message is printed where it has to do\")"
   ]
  },
  {
   "cell_type": "markdown",
   "metadata": {
    "slideshow": {
     "slide_type": "slide"
    }
   },
   "source": [
    "## Notebook cells\n",
    "* In the `code` cells, in addition to Python code you can execute\n",
    "   * shell commands (e.g. ls), prefixed by `!`\n",
    "   * so called Jupyter *magic* commands, prefixed by `%` (line magic) or `%%` (cell magic)\n",
    "   * plots using Matplotlib library (very useful but we will no deal with it in this basic course)"
   ]
  },
  {
   "cell_type": "code",
   "execution_count": 13,
   "metadata": {
    "slideshow": {
     "slide_type": "fragment"
    }
   },
   "outputs": [
    {
     "data": {
      "image/png": "[encoded data removed]",
      "text/plain": [
       "<Figure size 432x288 with 1 Axes>"
      ]
     },
     "metadata": {
      "needs_background": "light"
     },
     "output_type": "display_data"
    }
   ],
   "source": [
    "%matplotlib inline\n",
    "import matplotlib\n",
    "import numpy as np\n",
    "import matplotlib.pyplot as plt\n",
    "x = np.linspace(0, 3*np.pi, 500)\n",
    "plt.plot(x, np.sin(x**2))\n",
    "plt.title('A simple function plot')\n",
    "plt.show()"
   ]
  },
  {
   "cell_type": "markdown",
   "metadata": {
    "slideshow": {
     "slide_type": "slide"
    }
   },
   "source": [
    "## Jupyter notebook applications\n",
    "\n",
    "* Great \n",
    "   * for didactic purpose\n",
    "   * for prototyping\n",
    "   * github and gitlab understand notebooks \n",
    "   \n",
    "* There is also a Jupyter hub designed to serve many users from the same (distributed) deployment\n",
    "http://jupyter.org/hub\n",
    "   * no need to install anything\n",
    "   * great to share code between groups of users\n",
    "  \n",
    "* For realistc projects you may need something different, it depends"
   ]
  },
  {
   "cell_type": "markdown",
   "metadata": {
    "slideshow": {
     "slide_type": "slide"
    }
   },
   "source": [
    "## Hands-on 1.1\n",
    "\n",
    "* Start Jupyter notebook: open a terminal and execute the command:<br/>\n",
    "\n",
    "```shell\n",
    "jupyter notebook\n",
    "```\n",
    "\n",
    "* Experiments with cells\n",
    "   * markdown cell with a title and some text\n",
    "   * code cells executing arithmetic operations\n",
    "   * use Python print\n",
    "   * clearing outputs (All and cell)\n",
    "   * Run/Run all\n",
    "   * Kernel restart\n",
    "   * Modify script and execute by %run\n",
    "   * deleting cells"
   ]
  },
  {
   "cell_type": "markdown",
   "metadata": {
    "slideshow": {
     "slide_type": "slide"
    }
   },
   "source": [
    "# Rights & Credits\n",
    "\n",
    "These slides are CINECA 2018 and are released under the Attribution-NonCommercial-NoDerivs (CC BY-NC-ND) Creative Commons license, version 3.0. \n",
    "\n",
    "Uses not allowed by the above license need explicit, written permission from the copyright owner.\n",
    "\n",
    "For more information see:\n",
    "http://creativecommons.org/licenses/by-nc-nd/3.0/\n",
    "\n",
    "Slides and examples were authored by:\n",
    "**Sergio Orlandini**, **Francesco Salvadore**"
   ]
  }
 ],
 "metadata": {
  "celltoolbar": "Tags",
  "kernelspec": {
   "display_name": "Python 3",
   "language": "python",
   "name": "python3"
  },
  "language_info": {
   "codemirror_mode": {
    "name": "ipython",
    "version": 3
   },
   "file_extension": ".py",
   "mimetype": "text/x-python",
   "name": "python",
   "nbconvert_exporter": "python",
   "pygments_lexer": "ipython3",
   "version": "3.6.9"
  }
 },
 "nbformat": 4,
 "nbformat_minor": 2
}
